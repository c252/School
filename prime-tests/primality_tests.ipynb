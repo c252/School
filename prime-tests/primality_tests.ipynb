{
 "cells": [
  {
   "cell_type": "markdown",
   "metadata": {},
   "source": [
    "Probabilistic Primality Tests\n",
    "=============================\n",
    "Cyrus B.\n",
    "\n",
    "April 2019"
   ]
  },
  {
   "cell_type": "markdown",
   "metadata": {},
   "source": [
    "## Fermat Primality Test\n",
    "### Modular Congruency\n",
    "\n",
    "$a$ and $b$ are positive real integers\n",
    "\n",
    "\n",
    "$ {a \\equiv b \\pmod{n}} $, reads \"a is congruent to b\".\n",
    "\n",
    "This means that $a - b$ is divisible by $n$"
   ]
  },
  {
   "cell_type": "markdown",
   "metadata": {},
   "source": [
    "### Fermat's Little Theorem\n",
    "\n",
    "If $p$ is a prime number and $a$ is a positive integer less than $p$, _and_ $p$ does not divide $a$.\n",
    "\n",
    "\n",
    "Then ${a^{p-1} \\equiv 1 \\pmod{p}}$"
   ]
  },
  {
   "cell_type": "markdown",
   "metadata": {},
   "source": [
    "#### Quick Example"
   ]
  },
  {
   "cell_type": "markdown",
   "metadata": {},
   "source": [
    "$ p = 7 $\n",
    "\n",
    "$ a = 4 $\n",
    "\n",
    "$ a^{p-1} = 4^{6} = 4096 $\n",
    "\n",
    "$\\frac{4096 - 1}{7} = 585$"
   ]
  },
  {
   "cell_type": "markdown",
   "metadata": {},
   "source": [
    "### Primality Test\n",
    "\n",
    "Fermat's little theorem can easily be used to find prime numbers. If we want to test the primality of a number, we simply plug it into the equation for $p$ then pick an $a$ such that $0 < a < p$ and p does not divide a. If p divides $a^{p-1}$ then we know p is (very likely) prime. $p$ is not necesarilly prime because there are some numbers, Carmichael numbers, that the Fermat Primality Test will identify as prime even though they are not. "
   ]
  },
  {
   "cell_type": "code",
   "execution_count": 24,
   "metadata": {},
   "outputs": [],
   "source": [
    "import numpy as np\n",
    "import matplotlib.pyplot as plt\n",
    "import time\n",
    "import timeit\n",
    "import math"
   ]
  },
  {
   "cell_type": "code",
   "execution_count": 25,
   "metadata": {},
   "outputs": [],
   "source": [
    "def fpt(p):\n",
    "    \"\"\"\n",
    "    Takes a number p and determines if it is (probably) prime\n",
    "    Linear time efficiency O(p)\n",
    "    \"\"\"\n",
    "    if p == 2:\n",
    "        return True\n",
    "    \n",
    "    a = 2\n",
    "    exp = a\n",
    "    \"\"\"\n",
    "    I am defining exponentiation in this way so that I can show\n",
    "    the difference in speed between normal exponentiation and\n",
    "    exponentiation by doubling\n",
    "    \"\"\"\n",
    "    for _ in range(1, p - 1):\n",
    "        exp *= a\n",
    "        \n",
    "    if exp % p == 1:\n",
    "        return True\n",
    "    return False"
   ]
  },
  {
   "cell_type": "code",
   "execution_count": 26,
   "metadata": {},
   "outputs": [
    {
     "name": "stdout",
     "output_type": "stream",
     "text": [
      "2\n",
      "3\n",
      "5\n",
      "7\n",
      "11\n",
      "13\n",
      "17\n",
      "19\n",
      "23\n",
      "29\n",
      "31\n",
      "37\n",
      "41\n",
      "43\n",
      "47\n"
     ]
    }
   ],
   "source": [
    "for i in range(2, 50):\n",
    "    if fpt(i): print(i)"
   ]
  },
  {
   "cell_type": "markdown",
   "metadata": {},
   "source": [
    "## Fast Modular Exponentiation\n",
    "\n",
    "The bottleneck in the previous implementation of the FPT is that the exponentiation is a (relatively) slow operation. This can be signifigantly sped by using a divide and conquer exponentiation algorithm. Doing this brings our time efficiency down to $O(log(b))$, we get this speedup because by dealing with smaller numbers we can do modular multiplication instead of one large exponentiation and then a large modulus reduction."
   ]
  },
  {
   "cell_type": "code",
   "execution_count": 27,
   "metadata": {},
   "outputs": [],
   "source": [
    "def power(a, b, c):\n",
    "    \"\"\"\n",
    "    a^b mod c\n",
    "    \"\"\"\n",
    "    result = 1\n",
    "    exp = b\n",
    "    fact = a\n",
    "    while exp > 0:\n",
    "        if exp & 1:\n",
    "            result = (result * fact) % c\n",
    "        exp //= 2\n",
    "        fact = (fact * fact) % c\n",
    "    return result\n",
    "\n",
    "def fpt_fastexp(p):\n",
    "    \"\"\"\n",
    "    A very nice way to speed up the FPT algorithm is to\n",
    "    use modular exponentiation by doubling.\n",
    "    \"\"\"\n",
    "    if p == 2:\n",
    "        return True\n",
    "    a = 2\n",
    "    if power(a, p - 1, p) == 1:\n",
    "        return True\n",
    "    return False"
   ]
  },
  {
   "cell_type": "code",
   "execution_count": 28,
   "metadata": {},
   "outputs": [
    {
     "name": "stdout",
     "output_type": "stream",
     "text": [
      "2\n",
      "3\n",
      "5\n",
      "7\n",
      "11\n",
      "13\n",
      "17\n",
      "19\n",
      "23\n",
      "29\n",
      "31\n",
      "37\n",
      "41\n",
      "43\n",
      "47\n"
     ]
    }
   ],
   "source": [
    "for i in range(2, 50):\n",
    "    if fpt_fastexp(i): print(i)"
   ]
  },
  {
   "cell_type": "code",
   "execution_count": 29,
   "metadata": {},
   "outputs": [
    {
     "name": "stdout",
     "output_type": "stream",
     "text": [
      "Simple FPT: 24.553046464920044\n",
      "Divide and Conquer FPT: 7.390975952148438e-05\n"
     ]
    }
   ],
   "source": [
    "#Let's see how fast these algorithms are on some big mersenne primes\n",
    "start = time.time()\n",
    "fpt(2**20 - 1)\n",
    "print(f\"Simple FPT: {time.time() - start}\")\n",
    "start = time.time()\n",
    "fpt_fastexp(2**20 - 1)\n",
    "print(f\"Divide and Conquer FPT: {time.time() - start}\")"
   ]
  },
  {
   "cell_type": "code",
   "execution_count": 62,
   "metadata": {},
   "outputs": [
    {
     "data": {
      "image/png": "[encoded data removed]",
      "text/plain": [
       "<Figure size 432x288 with 1 Axes>"
      ]
     },
     "metadata": {
      "needs_background": "light"
     },
     "output_type": "display_data"
    }
   ],
   "source": [
    "#Plotting Time!\n",
    "#new versions of the function that do stepcounting\n",
    "stop = 100\n",
    "\n",
    "def sc_power(a, b, c):\n",
    "    result = 1\n",
    "    exp = b\n",
    "    fact = a\n",
    "    while exp > 0:\n",
    "        if exp & 1:\n",
    "            result = (result * fact) % c\n",
    "            sc1 += 1\n",
    "        exp //= 2\n",
    "        fact = (fact * fact) % c\n",
    "        sc1 += 1\n",
    "    return result\n",
    "\n",
    "def sc_fpt_fastexp(p):\n",
    "    if p == 2:\n",
    "        return True\n",
    "    a = 2\n",
    "    if power(a, p - 1, p) == 1:\n",
    "        return True\n",
    "    return False\n",
    "\n",
    "def sc_fpt(p):\n",
    "    if p == 2:\n",
    "        return True\n",
    "    \n",
    "    a = 2\n",
    "    exp = a\n",
    "    for _ in range(1, p - 1):\n",
    "        exp *= a        \n",
    "    if exp % p == 1:\n",
    "        return True\n",
    "    return False\n",
    "\n",
    "graph1 = graph2 = []\n",
    "for i in range(2, stop):\n",
    "    graph1.append(sc_fpt(i))\n",
    "    graph2.append(sc_fpt_fastexp(i))\n",
    "    \n",
    "plt.plot(graph1)\n",
    "plt.show()"
   ]
  },
  {
   "cell_type": "markdown",
   "metadata": {},
   "source": [
    "Sources\n",
    "=======\n",
    "\n",
    "https://math.mit.edu/research/highschool/primes/materials/2014/Narayanan.pdf\n",
    "\n",
    "\n",
    "https://en.wikipedia.org/wiki/Primality_test#Fermat_primality_test\n",
    "\n",
    "https://crypto.stanford.edu/pbc/notes/numbertheory/exp.html"
   ]
  }
 ],
 "metadata": {
  "kernelspec": {
   "display_name": "Python 3",
   "language": "python",
   "name": "python3"
  },
  "language_info": {
   "codemirror_mode": {
    "name": "ipython",
    "version": 3
   },
   "file_extension": ".py",
   "mimetype": "text/x-python",
   "name": "python",
   "nbconvert_exporter": "python",
   "pygments_lexer": "ipython3",
   "version": "3.7.1"
  }
 },
 "nbformat": 4,
 "nbformat_minor": 2
}
