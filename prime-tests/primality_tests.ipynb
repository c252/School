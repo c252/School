{
 "cells": [
  {
   "cell_type": "markdown",
   "metadata": {},
   "source": [
    "Probabilistic Primality Tests\n",
    "===============\n",
    "Cyrus B.\n",
    "\n",
    "April 2019"
   ]
  },
  {
   "cell_type": "code",
   "execution_count": 2,
   "metadata": {},
   "outputs": [],
   "source": [
    "import numpy as np\n",
    "from random import randint\n",
    "import matplotlib.pyplot as plt\n",
    "%matplotlib inline"
   ]
  },
  {
   "cell_type": "markdown",
   "metadata": {},
   "source": [
    "### Modular Congruency\n",
    "\n",
    "$a$ and $b$ are positive real integers\n",
    "\n",
    "\n",
    "$ {a \\equiv b \\pmod{n}} $, reads \"a is congruent to b\".\n",
    "\n",
    "This means that $a - b$ is divisible by $n$"
   ]
  },
  {
   "cell_type": "markdown",
   "metadata": {},
   "source": [
    "### Fermat's Little Theorem\n",
    "\n",
    "If $p$ is a prime number and $a$ is a positive integer less than $p$, _and_ $p$ does not divide $a$.\n",
    "\n",
    "\n",
    "Then ${a^{p-1} \\equiv 1 \\pmod{p}}$"
   ]
  },
  {
   "cell_type": "markdown",
   "metadata": {},
   "source": [
    "#### Quick Example"
   ]
  },
  {
   "cell_type": "markdown",
   "metadata": {},
   "source": [
    "$ p = 7 $\n",
    "\n",
    "$ a = 4 $\n",
    "\n",
    "$ a^{p-1} = 4^{6} = 4096 $\n",
    "\n",
    "$\\frac{4096 - 1}{7} = 585$"
   ]
  },
  {
   "cell_type": "markdown",
   "metadata": {},
   "source": [
    "### Fermat Primality Test\n",
    "\n",
    "Fermat's little theorem can easily be used to find prime numbers. If we want to test the primality of a number, we simply plug it into the equation for $p$ then pick an $a$ such that $0 < a < p$ and p does not divide a. If p divides $a^{p-1}$ then we know p is (very likely) prime. $p$ is not necesarilly prime because there are some numbers, Carmichael numbers, that the Fermat Primality Test will identify as prime even though they are not. "
   ]
  },
  {
   "cell_type": "code",
   "execution_count": 66,
   "metadata": {},
   "outputs": [],
   "source": [
    "def fpt(p):\n",
    "    \"\"\"\n",
    "    Takes a number p and determines if it is (probably) prime\n",
    "    Linear time efficiency O(p)\n",
    "    \"\"\"\n",
    "    if p == 2:\n",
    "        return True\n",
    "    \n",
    "    a = 2\n",
    "    exp = a\n",
    "    \"\"\"\n",
    "    I am defining exponentiation in this way so that I can show\n",
    "    the difference in speed between normal exponentiation and\n",
    "    exponentiation by doubling\n",
    "    \"\"\"\n",
    "    for _ in range(1, p - 1):\n",
    "        exp *= a\n",
    "        \n",
    "    if exp % p == 1:\n",
    "        return True\n",
    "    return False"
   ]
  },
  {
   "cell_type": "code",
   "execution_count": 68,
   "metadata": {},
   "outputs": [
    {
     "name": "stdout",
     "output_type": "stream",
     "text": [
      "2\n",
      "3\n",
      "5\n",
      "7\n",
      "11\n",
      "13\n",
      "17\n",
      "19\n",
      "23\n",
      "29\n",
      "31\n",
      "37\n",
      "41\n",
      "43\n",
      "47\n"
     ]
    }
   ],
   "source": [
    "for i in range(2, 50):\n",
    "    if fpt(i): print(i)"
   ]
  },
  {
   "cell_type": "code",
   "execution_count": null,
   "metadata": {},
   "outputs": [],
   "source": [
    "def fpt_fastexp(n):\n",
    "    \"\"\"\n",
    "    A very nice way to speed up the FPT algorithm is to\n",
    "    use modular exponentiation by doubling.\n",
    "    \"\"\"\n",
    "    if p == 2:\n",
    "        return True\n",
    "    a = 2\n",
    "    exp = a\n",
    "    result = 1\n",
    "    while n > 0:\n",
    "        if n & 1:\n",
    "            result = (result * exp) % n\n",
    "        exp //= 2"
   ]
  },
  {
   "cell_type": "markdown",
   "metadata": {},
   "source": [
    "Sources\n",
    "=======\n",
    "\n",
    "https://math.mit.edu/research/highschool/primes/materials/2014/Narayanan.pdf\n",
    "\n",
    "\n",
    "https://en.wikipedia.org/wiki/Primality_test#Fermat_primality_test\n",
    "\n",
    "https://en.wikipedia.org/wiki/Exponentiation_by_squaring#Basic_method\n",
    "\n",
    "https://mathlesstraveled.com/2018/08/03/the-fermat-primality-test/"
   ]
  }
 ],
 "metadata": {
  "kernelspec": {
   "display_name": "Python 3",
   "language": "python",
   "name": "python3"
  },
  "language_info": {
   "codemirror_mode": {
    "name": "ipython",
    "version": 3
   },
   "file_extension": ".py",
   "mimetype": "text/x-python",
   "name": "python",
   "nbconvert_exporter": "python",
   "pygments_lexer": "ipython3",
   "version": "3.7.1"
  }
 },
 "nbformat": 4,
 "nbformat_minor": 2
}
