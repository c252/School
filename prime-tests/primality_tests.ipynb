{
 "cells": [
  {
   "cell_type": "markdown",
   "metadata": {},
   "source": [
    "Probabilistic Primality Tests\n",
    "=============================\n",
    "Cyrus B.\n",
    "\n",
    "April 2019"
   ]
  },
  {
   "cell_type": "markdown",
   "metadata": {},
   "source": [
    "## Fermat Primality Test\n",
    "### Modular Congruency\n",
    "\n",
    "($a$ and $b$ are positive real integers)\n",
    "\n",
    "\n",
    "$ {a \\equiv b \\pmod{n}} $, reads \"a is congruent to b\".\n",
    "\n",
    "This means that $a - b$ is divisible by $n$"
   ]
  },
  {
   "cell_type": "markdown",
   "metadata": {},
   "source": [
    "### Fermat's Little Theorem\n",
    "\n",
    "If $p$ is a prime number and $a$ is a positive integer less than $p$, _and_ $p$ does not divide $a$.\n",
    "\n",
    "\n",
    "Then ${a^{p-1} \\equiv 1 \\pmod{p}}$"
   ]
  },
  {
   "cell_type": "markdown",
   "metadata": {},
   "source": [
    "#### Quick Example"
   ]
  },
  {
   "cell_type": "markdown",
   "metadata": {},
   "source": [
    "$ p = 7 $\n",
    "\n",
    "$ a = 4 $\n",
    "\n",
    "$ a^{p-1} = 4^{6} = 4096 $\n",
    "\n",
    "$\\frac{4096 - 1}{7} = 585$"
   ]
  },
  {
   "cell_type": "markdown",
   "metadata": {},
   "source": [
    "### Primality Test\n",
    "\n",
    "Fermat's little theorem can easily be used to find prime numbers. If we want to test the primality of a number, we simply plug it into the equation for $p$ then pick an $a$ such that $0 < a < p$ and p does not divide a. If p divides $a^{p-1}$ then we know p is (very likely) prime. $p$ is not necesarilly prime because there are some numbers, Carmichael numbers, that the Fermat Primality Test will identify as prime even though they are not. "
   ]
  },
  {
   "cell_type": "code",
   "execution_count": 2,
   "metadata": {},
   "outputs": [],
   "source": [
    "import numpy as np\n",
    "import matplotlib.pyplot as plt\n",
    "import time\n",
    "import timeit\n",
    "import math"
   ]
  },
  {
   "cell_type": "code",
   "execution_count": 3,
   "metadata": {},
   "outputs": [],
   "source": [
    "def fpt(p):\n",
    "    \"\"\"\n",
    "    Takes a number p and determines if it is (probably) prime\n",
    "    Linear time efficiency O(n)\n",
    "    \"\"\"\n",
    "    if p == 2:\n",
    "        return True\n",
    "    \n",
    "    a = 2\n",
    "    exp = a\n",
    "    \"\"\"\n",
    "    I am defining exponentiation in this way so that I can show\n",
    "    the difference in speed between normal exponentiation and\n",
    "    exponentiation by doubling\n",
    "    \"\"\"\n",
    "    for _ in range(1, p - 1):\n",
    "        exp *= a\n",
    "        \n",
    "    return exp % p == 1"
   ]
  },
  {
   "cell_type": "code",
   "execution_count": 4,
   "metadata": {},
   "outputs": [
    {
     "name": "stdout",
     "output_type": "stream",
     "text": [
      "2\n",
      "3\n",
      "5\n",
      "7\n",
      "11\n",
      "13\n",
      "17\n",
      "19\n",
      "23\n",
      "29\n",
      "31\n",
      "37\n",
      "41\n",
      "43\n",
      "47\n"
     ]
    }
   ],
   "source": [
    "for i in range(2, 50):\n",
    "    if fpt(i): print(i)"
   ]
  },
  {
   "cell_type": "markdown",
   "metadata": {},
   "source": [
    "## Fast Modular Exponentiation\n",
    "\n",
    "The bottleneck in the previous implementation of the FPT is that the exponentiation is a (relatively) slow operation. This can be signifigantly sped by using a divide and conquer exponentiation algorithm. Doing this brings our time efficiency down to $O(log(n))$, we get this speedup because by dealing with smaller numbers we can do modular multiplication instead of one large exponentiation and then a large modulus reduction."
   ]
  },
  {
   "cell_type": "code",
   "execution_count": 5,
   "metadata": {},
   "outputs": [],
   "source": [
    "def power(a, b, c):\n",
    "    \"\"\"\n",
    "    a^b mod c\n",
    "    \"\"\"\n",
    "    result = 1\n",
    "    exp = b\n",
    "    fact = a\n",
    "    while exp > 0:\n",
    "        if exp & 1:\n",
    "            result = (result * fact) % c\n",
    "        exp //= 2\n",
    "        fact = (fact * fact) % c\n",
    "    return result\n",
    "\n",
    "def fpt_fastexp(p):\n",
    "    \"\"\"\n",
    "    A very nice way to speed up the FPT algorithm is to\n",
    "    use modular exponentiation by doubling.\n",
    "    \"\"\"\n",
    "    if p == 2:\n",
    "        return True\n",
    "    a = 2\n",
    "    return power(a, p - 1, p) == 1"
   ]
  },
  {
   "cell_type": "code",
   "execution_count": 6,
   "metadata": {},
   "outputs": [
    {
     "name": "stdout",
     "output_type": "stream",
     "text": [
      "2\n",
      "3\n",
      "5\n",
      "7\n",
      "11\n",
      "13\n",
      "17\n",
      "19\n",
      "23\n",
      "29\n",
      "31\n",
      "37\n",
      "41\n",
      "43\n",
      "47\n"
     ]
    }
   ],
   "source": [
    "for i in range(2, 50):\n",
    "    if fpt_fastexp(i): print(i)"
   ]
  },
  {
   "cell_type": "code",
   "execution_count": 7,
   "metadata": {},
   "outputs": [
    {
     "name": "stdout",
     "output_type": "stream",
     "text": [
      "Simple FPT: 25.2138671875\n",
      "Divide and Conquer FPT: 8.058547973632812e-05\n"
     ]
    }
   ],
   "source": [
    "#Let's see how fast these algorithms are on some big mersenne primes\n",
    "start = time.time()\n",
    "fpt(2**20 - 1)\n",
    "print(f\"Simple FPT: {time.time() - start}\")\n",
    "start = time.time()\n",
    "fpt_fastexp(2**20 - 1)\n",
    "print(f\"Divide and Conquer FPT: {time.time() - start}\")"
   ]
  },
  {
   "cell_type": "code",
   "execution_count": 12,
   "metadata": {},
   "outputs": [
    {
     "data": {
      "image/png": "[encoded data removed]",
      "text/plain": [
       "<Figure size 432x288 with 1 Axes>"
      ]
     },
     "metadata": {
      "needs_background": "light"
     },
     "output_type": "display_data"
    },
    {
     "data": {
      "image/png": "[encoded data removed]",
      "text/plain": [
       "<Figure size 432x288 with 1 Axes>"
      ]
     },
     "metadata": {
      "needs_background": "light"
     },
     "output_type": "display_data"
    }
   ],
   "source": [
    "#Plotting Time!\n",
    "#new versions of the functions that do stepcounting\n",
    "stop = 5000\n",
    "\n",
    "def sc_power(step_count, a, b, c):\n",
    "    result = 1\n",
    "    exp = b\n",
    "    fact = a\n",
    "    step_count += 2\n",
    "    while exp > 0:\n",
    "        if exp & 1:\n",
    "            result = (result * fact) % c\n",
    "            step_count += 1\n",
    "        exp //= 2\n",
    "        fact = (fact * fact) % c\n",
    "        step_count += 1\n",
    "    return step_count\n",
    "\n",
    "def sc_fpt_fastexp(p):\n",
    "    step_count = 0\n",
    "    a = 2\n",
    "    step_count += 1\n",
    "    return sc_power(step_count, a, p - 1, p)\n",
    "\n",
    "def sc_fpt(p):\n",
    "    step_count = 0\n",
    "    a = 2\n",
    "    exp = a\n",
    "    step_count += 2\n",
    "    for _ in range(1, p - 1):\n",
    "        exp *= a\n",
    "        step_count += 1\n",
    "    return step_count\n",
    "\n",
    "graph1 = []\n",
    "graph2 = []\n",
    "for i in range(3, stop):\n",
    "    graph1.append(sc_fpt(i))\n",
    "    graph2.append(sc_fpt_fastexp(i))  \n",
    "\n",
    "plt.plot(graph1)\n",
    "plt.title(\"Standard Modular Exponentiation (Slow)\")\n",
    "plt.ylabel(\"Number of Steps\", fontsize=16)\n",
    "plt.show()\n",
    "plt.plot(graph2)\n",
    "plt.plot(logplot)\n",
    "plt.title(\"Modular Exponentiation by Doubling (Fast)\")\n",
    "plt.ylabel(\"Number of Steps\", fontsize=16)\n",
    "plt.show()"
   ]
  },
  {
   "cell_type": "markdown",
   "metadata": {},
   "source": [
    "### Carmichael Numbers (Fermat Pseudo-Primes)\n",
    "\n",
    "As I said before, there are a small number of composite numbers that also obey Fermat's little theroem. Therefore according to this algorithm they are prime. This is why it is a probabilistic primality test. To be clear, there are other numbers that are incorrectly flagged as prime if we use $a$ as 2. However a can be any integer between 1 and $p$, Carmichael numbers have the property that they will still be considered prime according to this algorithm even if we test with every single $a$ from 1 to $p$."
   ]
  },
  {
   "cell_type": "code",
   "execution_count": 21,
   "metadata": {},
   "outputs": [
    {
     "name": "stdout",
     "output_type": "stream",
     "text": [
      "True\n",
      "True\n",
      "True\n",
      "True\n",
      "True\n",
      "True\n",
      "True\n",
      "True\n"
     ]
    }
   ],
   "source": [
    "#Some quick examples of Carmichael numbers\n",
    "carmichaels = [561, 1105, 1729, 2465, 2821, 6601, 8911, 10585]\n",
    "for i in carmichaels:\n",
    "    print(fpt_fastexp(i))"
   ]
  },
  {
   "cell_type": "markdown",
   "metadata": {},
   "source": [
    "Sources\n",
    "=======\n",
    "\n",
    "https://math.mit.edu/research/highschool/primes/materials/2014/Narayanan.pdf\n",
    "\n",
    "\n",
    "https://en.wikipedia.org/wiki/Primality_test#Fermat_primality_test\n",
    "\n",
    "https://crypto.stanford.edu/pbc/notes/numbertheory/exp.html\n",
    "\n",
    "http://oeis.org/A002997"
   ]
  }
 ],
 "metadata": {
  "kernelspec": {
   "display_name": "Python 3",
   "language": "python",
   "name": "python3"
  },
  "language_info": {
   "codemirror_mode": {
    "name": "ipython",
    "version": 3
   },
   "file_extension": ".py",
   "mimetype": "text/x-python",
   "name": "python",
   "nbconvert_exporter": "python",
   "pygments_lexer": "ipython3",
   "version": "3.7.1"
  }
 },
 "nbformat": 4,
 "nbformat_minor": 2
}
