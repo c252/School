{
 "cells": [
  {
   "cell_type": "markdown",
   "metadata": {},
   "source": [
    "Fermat Primality Test Julia Version\n",
    "====================================\n",
    "\n",
    "See the python notebook for detailed explanation of Fermat primality test."
   ]
  },
  {
   "cell_type": "code",
   "execution_count": 2,
   "metadata": {},
   "outputs": [
    {
     "data": {
      "text/plain": [
       "fastExp (generic function with 1 method)"
      ]
     },
     "execution_count": 2,
     "metadata": {},
     "output_type": "execute_result"
    }
   ],
   "source": [
    "function fastExp(a, b, c)::BigInt\n",
    "    result = 1\n",
    "    exp = b\n",
    "    fact = a\n",
    "    while exp > 0\n",
    "        if exp & 1 == 1\n",
    "            result = (result * fact) % c\n",
    "        end\n",
    "        exp = exp ÷ 2\n",
    "        fact = (fact * fact) % c\n",
    "    end\n",
    "    return result\n",
    "end"
   ]
  },
  {
   "cell_type": "markdown",
   "metadata": {},
   "source": [
    "The reason I rewrote the algorithm in Julia is because python is slow and I wanted to make a version of the algorithm that 1) could test all possible values of $a$ quickly and 2) work on much larger numbers. This means that the Julia algorithm technically has a time efficiency of $O(n \\log_{2}{n})$, but it is still much faster than the python code."
   ]
  },
  {
   "cell_type": "code",
   "execution_count": 6,
   "metadata": {},
   "outputs": [
    {
     "data": {
      "text/plain": [
       "fpt (generic function with 1 method)"
      ]
     },
     "execution_count": 6,
     "metadata": {},
     "output_type": "execute_result"
    }
   ],
   "source": [
    "function fpt(p)\n",
    "    if p == 2\n",
    "        return true\n",
    "    end\n",
    "    result = true\n",
    "    for a in 2:(p-1)\n",
    "        if fastExp(a, p - 1, p) != 1\n",
    "            result = false\n",
    "        end\n",
    "    end\n",
    "    return result\n",
    "end"
   ]
  },
  {
   "cell_type": "code",
   "execution_count": 7,
   "metadata": {},
   "outputs": [
    {
     "name": "stdout",
     "output_type": "stream",
     "text": [
      "2\n",
      "3\n",
      "5\n",
      "7\n",
      "11\n",
      "13\n",
      "17\n",
      "19\n",
      "23\n",
      "29\n",
      "31\n",
      "37\n",
      "41\n",
      "43\n",
      "47\n"
     ]
    }
   ],
   "source": [
    "for i in 2:50\n",
    "    if fpt(i)\n",
    "        println(i)\n",
    "    end\n",
    "end"
   ]
  },
  {
   "cell_type": "code",
   "execution_count": 27,
   "metadata": {},
   "outputs": [
    {
     "data": {
      "text/plain": [
       "sc_fpt_nlogn (generic function with 1 method)"
      ]
     },
     "execution_count": 27,
     "metadata": {},
     "output_type": "execute_result"
    }
   ],
   "source": [
    "#More Plotting!\n",
    "function sc_fast_exp(a, b, c, sc)::BigInt\n",
    "    result = 1\n",
    "    exp = b\n",
    "    fact = a\n",
    "    while exp > 0\n",
    "        if exp & 1 == 1\n",
    "            result = (result * fact) % c\n",
    "            sc += 1\n",
    "        end\n",
    "        exp = exp ÷ 2\n",
    "        sc += 1\n",
    "        fact = (fact * fact) % c\n",
    "        sc += 1\n",
    "    end\n",
    "    return sc\n",
    "end\n",
    "\n",
    "function sc_fpt_nlogn(p)::BigInt\n",
    "    sc = 0\n",
    "    if p == 2\n",
    "        return true\n",
    "    end\n",
    "    result = true\n",
    "    for i in 2:(p-1)\n",
    "        sc += sc_fast_exp(i, p - 1, p, sc)\n",
    "    end\n",
    "    return sc\n",
    "end"
   ]
  },
  {
   "cell_type": "code",
   "execution_count": null,
   "metadata": {},
   "outputs": [],
   "source": []
  }
 ],
 "metadata": {
  "kernelspec": {
   "display_name": "Julia 1.1.0",
   "language": "julia",
   "name": "julia-1.1"
  },
  "language_info": {
   "file_extension": ".jl",
   "mimetype": "application/julia",
   "name": "julia",
   "version": "1.1.0"
  }
 },
 "nbformat": 4,
 "nbformat_minor": 2
}
