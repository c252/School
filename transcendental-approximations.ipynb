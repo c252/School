{
 "cells": [
  {
   "cell_type": "markdown",
   "metadata": {},
   "source": [
    "Methods of Computing Pi\n",
    "======================="
   ]
  },
  {
   "cell_type": "code",
   "execution_count": 1,
   "metadata": {},
   "outputs": [],
   "source": [
    "import matplotlib.pyplot as plt\n",
    "import random\n",
    "import numpy\n",
    "import math"
   ]
  },
  {
   "cell_type": "markdown",
   "metadata": {},
   "source": [
    "Wallis Product\n",
    "============"
   ]
  },
  {
   "cell_type": "markdown",
   "metadata": {},
   "source": [
    "$$ \\prod_{n = 1}^{\\infty}\\frac{2n}{2n - 1} * \\frac{2n}{2n + 1} = \\frac{\\pi}{2}$$"
   ]
  },
  {
   "cell_type": "code",
   "execution_count": 2,
   "metadata": {},
   "outputs": [],
   "source": [
    "wallisdata = []\n",
    "\n",
    "def wallisProd(l):\n",
    "    res = 1\n",
    "    for n in range(1, l):\n",
    "        even = ((2.0 * n) / (2.0 * n - 1.0))\n",
    "        odd = ((2.0 * n) / (2.0 * n + 1))\n",
    "        res *= even * odd\n",
    "        wallisdata.append(even)\n",
    "        wallisdata.append(odd)\n",
    "        \n",
    "    return res * 2"
   ]
  },
  {
   "cell_type": "code",
   "execution_count": 10,
   "metadata": {},
   "outputs": [
    {
     "data": {
      "text/plain": [
       "3.1415918681909676"
      ]
     },
     "execution_count": 10,
     "metadata": {},
     "output_type": "execute_result"
    }
   ],
   "source": [
    "wallisProd(1000000)"
   ]
  },
  {
   "cell_type": "code",
   "execution_count": 17,
   "metadata": {},
   "outputs": [
    {
     "data": {
      "image/png": "[encoded data removed]",
      "text/plain": [
       "<Figure size 432x288 with 1 Axes>"
      ]
     },
     "metadata": {
      "needs_background": "light"
     },
     "output_type": "display_data"
    }
   ],
   "source": [
    "plt.plot(wallisdata[0:80])\n",
    "plt.show()"
   ]
  },
  {
   "cell_type": "markdown",
   "metadata": {},
   "source": [
    "You can see that this series is converging at $ \\frac {\\pi}{2} $"
   ]
  },
  {
   "cell_type": "markdown",
   "metadata": {},
   "source": [
    "Monte Carlo Integration\n",
    "===================="
   ]
  },
  {
   "cell_type": "markdown",
   "metadata": {},
   "source": [
    "Monte Carlo integration is an integration technique used to approximate\n",
    "\n",
    "definite integrals. It is done by plotting random points and having a function\n",
    "\n",
    "to determine whether or not it is under the curve in question. Then you take the\n",
    "\n",
    "ratio of total points / points under the curve. This example using a square and a circle\n",
    "\n",
    "and the formula for the area of a circle to determine the value of Pi."
   ]
  },
  {
   "cell_type": "code",
   "execution_count": 12,
   "metadata": {},
   "outputs": [],
   "source": [
    "def inCircle(x, y, rad):\n",
    "    return (x * x + y * y) < rad * rad\n",
    "\n",
    "def monteCarlo(n):\n",
    "    radius = 1.0\n",
    "    count = 0.0\n",
    "    \n",
    "    for i in range(n):\n",
    "        x = random.uniform(0.0, radius)\n",
    "        y = random.uniform(0.0, radius)\n",
    "        \n",
    "        if inCircle(x, y, radius):\n",
    "            count += 1\n",
    "            \n",
    "            \n",
    "    res = 4 * count / n\n",
    "    \n",
    "    return res"
   ]
  },
  {
   "cell_type": "code",
   "execution_count": 13,
   "metadata": {},
   "outputs": [
    {
     "data": {
      "text/plain": [
       "3.140152"
      ]
     },
     "execution_count": 13,
     "metadata": {},
     "output_type": "execute_result"
    }
   ],
   "source": [
    "monteCarlo(1000000)"
   ]
  },
  {
   "cell_type": "markdown",
   "metadata": {},
   "source": [
    "Basel Series\n",
    "================="
   ]
  },
  {
   "cell_type": "markdown",
   "metadata": {},
   "source": [
    "$$ \\frac{\\pi^2}{6} = \\sum_{n = 1}^{\\infty} \\frac{1}{n^2}$$"
   ]
  },
  {
   "cell_type": "code",
   "execution_count": 14,
   "metadata": {},
   "outputs": [],
   "source": [
    "def basel(n):\n",
    "    res = 0.0\n",
    "    for i in range(1, n):\n",
    "        res += 1.0/(i**2.0)\n",
    "        \n",
    "    return math.sqrt(6*res)"
   ]
  },
  {
   "cell_type": "code",
   "execution_count": 16,
   "metadata": {},
   "outputs": [
    {
     "data": {
      "text/plain": [
       "3.141591698659554"
      ]
     },
     "execution_count": 16,
     "metadata": {},
     "output_type": "execute_result"
    }
   ],
   "source": [
    "basel(1000000)"
   ]
  },
  {
   "cell_type": "code",
   "execution_count": null,
   "metadata": {},
   "outputs": [],
   "source": []
  }
 ],
 "metadata": {
  "kernelspec": {
   "display_name": "Python 3",
   "language": "python",
   "name": "python3"
  },
  "language_info": {
   "codemirror_mode": {
    "name": "ipython",
    "version": 3
   },
   "file_extension": ".py",
   "mimetype": "text/x-python",
   "name": "python",
   "nbconvert_exporter": "python",
   "pygments_lexer": "ipython3",
   "version": "3.7.1"
  }
 },
 "nbformat": 4,
 "nbformat_minor": 2
}
