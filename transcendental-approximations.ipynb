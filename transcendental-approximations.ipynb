{
 "cells": [
  {
   "cell_type": "markdown",
   "metadata": {},
   "source": [
    "Methods of Computing Pi\n",
    "======================="
   ]
  },
  {
   "cell_type": "code",
   "execution_count": 1,
   "metadata": {},
   "outputs": [],
   "source": [
    "import matplotlib.pyplot as plt\n",
    "import random\n",
    "import numpy\n",
    "import math"
   ]
  },
  {
   "cell_type": "markdown",
   "metadata": {},
   "source": [
    "Wallis Product\n",
    "============"
   ]
  },
  {
   "cell_type": "markdown",
   "metadata": {},
   "source": [
    "$$ \\prod_{n = 1}^{\\infty}\\frac{2n}{2n - 1} * \\frac{2n}{2n + 1} = \\frac{\\pi}{2}$$"
   ]
  },
  {
   "cell_type": "code",
   "execution_count": 2,
   "metadata": {},
   "outputs": [],
   "source": [
    "def wallisProd(l):\n",
    "    res = 1\n",
    "    for n in range(1, l):\n",
    "        res *= ((2.0 * n) / (2.0 * n - 1.0)) * ((2.0 * n) / (2.0 * n + 1))\n",
    "        \n",
    "    return res * 2"
   ]
  },
  {
   "cell_type": "code",
   "execution_count": 3,
   "metadata": {},
   "outputs": [
    {
     "data": {
      "text/plain": [
       "3.1415918681909676"
      ]
     },
     "execution_count": 3,
     "metadata": {},
     "output_type": "execute_result"
    }
   ],
   "source": [
    "wallisProd(1000000)"
   ]
  },
  {
   "cell_type": "markdown",
   "metadata": {},
   "source": [
    "Monte Carlo Integration\n",
    "===================="
   ]
  },
  {
   "cell_type": "markdown",
   "metadata": {},
   "source": [
    "Monte Carlo integration is an integration technique used to approximate\n",
    "\n",
    "definite integrals. It is done by plotting random points and having a function\n",
    "\n",
    "to determine whether or not it is under the curve in question. Then you take the\n",
    "\n",
    "ratio of total points / points under the curve. This example using a square and a circle\n",
    "\n",
    "and the formula for the area of a circle to determine the value of Pi."
   ]
  },
  {
   "cell_type": "code",
   "execution_count": 4,
   "metadata": {},
   "outputs": [],
   "source": [
    "def inCircle(x, y, rad):\n",
    "    return (x * x + y * y) < rad * rad\n",
    "\n",
    "def monteCarlo(n):\n",
    "    radius = 1.0\n",
    "    count = 0.0\n",
    "    \n",
    "    for i in range(n):\n",
    "        x = random.uniform(0.0, radius)\n",
    "        y = random.uniform(0.0, radius)\n",
    "        \n",
    "        if inCircle(x, y, radius):\n",
    "            count += 1\n",
    "            \n",
    "            \n",
    "    res = 4 * count / n\n",
    "    \n",
    "    return res"
   ]
  },
  {
   "cell_type": "code",
   "execution_count": 5,
   "metadata": {},
   "outputs": [
    {
     "data": {
      "text/plain": [
       "3.141348"
      ]
     },
     "execution_count": 5,
     "metadata": {},
     "output_type": "execute_result"
    }
   ],
   "source": [
    "monteCarlo(1000000)"
   ]
  },
  {
   "cell_type": "markdown",
   "metadata": {},
   "source": [
    "Ramanujan Formula\n",
    "================="
   ]
  },
  {
   "cell_type": "markdown",
   "metadata": {},
   "source": [
    "$$ \\frac{1}{\\pi} = \\frac{\\sqrt 8}{9801} \\sum_{n = 0}^{\\infty} \\frac{(4n)!}{n!^4} \\frac{26390n + 1103}{396 ^ {4n}}$$"
   ]
  },
  {
   "cell_type": "markdown",
   "metadata": {},
   "source": [
    "I don't understand how this one works :)"
   ]
  },
  {
   "cell_type": "code",
   "execution_count": null,
   "metadata": {},
   "outputs": [],
   "source": []
  }
 ],
 "metadata": {
  "kernelspec": {
   "display_name": "Python 3",
   "language": "python",
   "name": "python3"
  },
  "language_info": {
   "codemirror_mode": {
    "name": "ipython",
    "version": 3
   },
   "file_extension": ".py",
   "mimetype": "text/x-python",
   "name": "python",
   "nbconvert_exporter": "python",
   "pygments_lexer": "ipython3",
   "version": "3.5.3"
  }
 },
 "nbformat": 4,
 "nbformat_minor": 2
}
